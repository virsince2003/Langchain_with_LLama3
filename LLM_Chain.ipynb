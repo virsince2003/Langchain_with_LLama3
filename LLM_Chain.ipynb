{
 "cells": [
  {
   "cell_type": "code",
   "execution_count": 11,
   "metadata": {},
   "outputs": [],
   "source": [
    "from langchain_community.llms import Ollama\n",
    "from langchain.prompts import PromptTemplate\n",
    "from langchain.chains import LLMChain, SimpleSequentialChain,SequentialChain"
   ]
  },
  {
   "cell_type": "code",
   "execution_count": 3,
   "metadata": {},
   "outputs": [],
   "source": [
    "ollama = Ollama(\n",
    "    model = \"llama3\"\n",
    ")"
   ]
  },
  {
   "cell_type": "code",
   "execution_count": 4,
   "metadata": {},
   "outputs": [],
   "source": [
    "prompt1=PromptTemplate(\n",
    "    input_variables=[\"topic\"],\n",
    "    template=\"What is the {topic}?\",\n",
    ") "
   ]
  },
  {
   "cell_type": "code",
   "execution_count": 5,
   "metadata": {},
   "outputs": [
    {
     "name": "stderr",
     "output_type": "stream",
     "text": [
      "e:\\VS_CODE\\Langchain_with_LLama3\\venv\\lib\\site-packages\\langchain_core\\_api\\deprecation.py:119: LangChainDeprecationWarning: The class `LLMChain` was deprecated in LangChain 0.1.17 and will be removed in 0.3.0. Use RunnableSequence, e.g., `prompt | llm` instead.\n",
      "  warn_deprecated(\n"
     ]
    }
   ],
   "source": [
    "chain = LLMChain(\n",
    "    llm=ollama,\n",
    "    prompt=prompt1,\n",
    "    verbose=True\n",
    ")"
   ]
  },
  {
   "cell_type": "code",
   "execution_count": 6,
   "metadata": {},
   "outputs": [
    {
     "name": "stderr",
     "output_type": "stream",
     "text": [
      "e:\\VS_CODE\\Langchain_with_LLama3\\venv\\lib\\site-packages\\langchain_core\\_api\\deprecation.py:119: LangChainDeprecationWarning: The method `Chain.run` was deprecated in langchain 0.1.0 and will be removed in 0.3.0. Use invoke instead.\n",
      "  warn_deprecated(\n"
     ]
    },
    {
     "name": "stdout",
     "output_type": "stream",
     "text": [
      "\n",
      "\n",
      "\u001b[1m> Entering new LLMChain chain...\u001b[0m\n",
      "Prompt after formatting:\n",
      "\u001b[32;1m\u001b[1;3mWhat is the geopolitics?\u001b[0m\n",
      "\n",
      "\u001b[1m> Finished chain.\u001b[0m\n"
     ]
    },
    {
     "data": {
      "text/plain": [
       "\"Geopolitics refers to the study of the relationship between politics, geography, and power. It examines how geographical factors, such as a country's natural resources, climate, and location, influence its political development, foreign policy, and international relations.\\n\\nIn essence, geopolitics is concerned with understanding how the physical environment shapes the behavior of nations, organizations, and individuals in pursuit of their interests, security, and prosperity. This field of study draws on insights from geography, political science, international relations, economics, sociology, and other disciplines to analyze the complex interactions between political actors, geographical factors, and the global system.\\n\\nSome key aspects of geopolitics include:\\n\\n1. **Territoriality**: The concept that a country's sovereignty and territorial integrity are crucial for its survival and prosperity.\\n2. **Natural resources**: The discovery, exploitation, and competition over natural resources like oil, gas, minerals, water, and land can shape the behavior of nations.\\n3. **Strategic locations**: Countries with unique geographical features, such as islands, peninsulas, or access to key shipping lanes, may hold significant strategic value.\\n4. **Climate and environmental factors**: Natural disasters, climate change, and environmental degradation can impact a country's economy, security, and human well-being.\\n5. **Border politics**: The control of borders, migration patterns, and border conflicts can significantly affect the dynamics between nations.\\n6. **Energy security**: The quest for secure energy supplies, transportation routes, and storage facilities is critical to a nation's economic vitality and national security.\\n7. **International institutions**: Global organizations like the United Nations, World Trade Organization, and International Monetary Fund shape international relations and influence the behavior of nations.\\n\\nGeopolitics plays out in various ways:\\n\\n1. **Regional rivalries**: Competition for influence, resources, or territory between neighboring countries or regional powers.\\n2. **Global power dynamics**: The interplay between major powers, such as the United States, China, Russia, European Union, and other influential nations.\\n3. **Conflict zones**: Areas of ongoing violence, instability, or conflict, like the Middle East, Africa, and Eastern Europe.\\n4. **Economic interests**: Companies, investors, and governments vying for economic influence, trade agreements, and market access.\\n\\nUnderstanding geopolitics is essential for policymakers, business leaders, and scholars seeking to navigate the complex relationships between nations, natural resources, and geographical factors that shape our world.\""
      ]
     },
     "execution_count": 6,
     "metadata": {},
     "output_type": "execute_result"
    }
   ],
   "source": [
    "chain.run(input(\"Enter a topic: \"))"
   ]
  },
  {
   "cell_type": "markdown",
   "metadata": {},
   "source": [
    "#### Multiple Chains"
   ]
  },
  {
   "cell_type": "code",
   "execution_count": 17,
   "metadata": {},
   "outputs": [],
   "source": [
    "# 1st prompt template\n",
    "prompt1=PromptTemplate(\n",
    "    input_variables=[\"topic\"],\n",
    "    template=\"What is {topic}?\"\n",
    ")\n",
    "\n",
    "# chain 1\n",
    "chain1 = LLMChain(\n",
    "    llm=ollama,\n",
    "    prompt=prompt1,\n",
    "    verbose=True,\n",
    "    output_key = \"defination\"\n",
    ")\n",
    "\n",
    "#2nd prompt template\n",
    "prompt2=PromptTemplate(\n",
    "    input_variables=[\"importance\"],\n",
    "    template=\"What is its {importance} ?\",\n",
    ") \n",
    "# chain 2\n",
    "chain2 = LLMChain(\n",
    "    llm=ollama,\n",
    "    prompt=prompt2,\n",
    "    verbose=True,\n",
    "    output_key = \"time\"\n",
    ")"
   ]
  },
  {
   "cell_type": "code",
   "execution_count": 18,
   "metadata": {},
   "outputs": [],
   "source": [
    "parrent_chain = SimpleSequentialChain(chains=[chain1,chain2],verbose=True)"
   ]
  },
  {
   "cell_type": "markdown",
   "metadata": {},
   "source": [
    "### **Using SIMPLE SEQUENTIAL CHAIN**"
   ]
  },
  {
   "cell_type": "code",
   "execution_count": 19,
   "metadata": {},
   "outputs": [
    {
     "name": "stdout",
     "output_type": "stream",
     "text": [
      "\n",
      "\n",
      "\u001b[1m> Entering new SimpleSequentialChain chain...\u001b[0m\n",
      "\n",
      "\n",
      "\u001b[1m> Entering new LLMChain chain...\u001b[0m\n",
      "Prompt after formatting:\n",
      "\u001b[32;1m\u001b[1;3mWhat is geopolitics?\u001b[0m\n",
      "\n",
      "\u001b[1m> Finished chain.\u001b[0m\n",
      "\u001b[36;1m\u001b[1;3mGeopolitics is the study of how geography, politics, and economics intersect to shape the relationships between countries, regions, and other actors on the global stage. It examines how geographical factors such as terrain, climate, resources, and population density influence political decisions, international relations, and global outcomes.\n",
      "\n",
      "Geopolitics encompasses various aspects, including:\n",
      "\n",
      "1. **Territorial disputes**: Conflicts over borders, sovereignty, or control of specific territories.\n",
      "2. **Natural resource politics**: The impact of natural resources (e.g., oil, water, minerals) on international relations, economic development, and conflict.\n",
      "3. **Economic interests**: How nations' economic needs, trade policies, and investment strategies shape their relationships with other countries.\n",
      "4. **Security concerns**: The role of military power, defense alliances, and security institutions in shaping international relations.\n",
      "5. **Cultural and social factors**: How cultural, religious, or ideological differences between societies influence international interactions.\n",
      "6. **Environmental politics**: The impact of environmental issues (e.g., climate change, pollution) on global governance, cooperation, and conflict.\n",
      "\n",
      "Geopolitics is often applied to:\n",
      "\n",
      "1. **Regional studies**: Analyzing the complex relationships within specific regions, such as Europe, Asia, or Latin America.\n",
      "2. **International relations**: Examining how countries interact with each other, including diplomacy, trade, and conflict resolution.\n",
      "3. **Global governance**: Understanding the role of international organizations, such as the United Nations, in addressing global challenges.\n",
      "4. **National security**: Assessing the strategic implications of geopolitics for a country's defense and foreign policy.\n",
      "\n",
      "By understanding the interplay between geography, politics, and economics, geopolitics helps us better comprehend the complex dynamics shaping our world today.\u001b[0m\n",
      "\n",
      "\n",
      "\u001b[1m> Entering new LLMChain chain...\u001b[0m\n",
      "Prompt after formatting:\n",
      "\u001b[32;1m\u001b[1;3mWhat is its Geopolitics is the study of how geography, politics, and economics intersect to shape the relationships between countries, regions, and other actors on the global stage. It examines how geographical factors such as terrain, climate, resources, and population density influence political decisions, international relations, and global outcomes.\n",
      "\n",
      "Geopolitics encompasses various aspects, including:\n",
      "\n",
      "1. **Territorial disputes**: Conflicts over borders, sovereignty, or control of specific territories.\n",
      "2. **Natural resource politics**: The impact of natural resources (e.g., oil, water, minerals) on international relations, economic development, and conflict.\n",
      "3. **Economic interests**: How nations' economic needs, trade policies, and investment strategies shape their relationships with other countries.\n",
      "4. **Security concerns**: The role of military power, defense alliances, and security institutions in shaping international relations.\n",
      "5. **Cultural and social factors**: How cultural, religious, or ideological differences between societies influence international interactions.\n",
      "6. **Environmental politics**: The impact of environmental issues (e.g., climate change, pollution) on global governance, cooperation, and conflict.\n",
      "\n",
      "Geopolitics is often applied to:\n",
      "\n",
      "1. **Regional studies**: Analyzing the complex relationships within specific regions, such as Europe, Asia, or Latin America.\n",
      "2. **International relations**: Examining how countries interact with each other, including diplomacy, trade, and conflict resolution.\n",
      "3. **Global governance**: Understanding the role of international organizations, such as the United Nations, in addressing global challenges.\n",
      "4. **National security**: Assessing the strategic implications of geopolitics for a country's defense and foreign policy.\n",
      "\n",
      "By understanding the interplay between geography, politics, and economics, geopolitics helps us better comprehend the complex dynamics shaping our world today. ?\u001b[0m\n",
      "\n",
      "\u001b[1m> Finished chain.\u001b[0m\n",
      "\u001b[33;1m\u001b[1;3mThis is a great overview of geopolitics! It's a fascinating field that helps us understand how the interconnectedness of geographical, political, and economic factors shapes relationships between countries, regions, and other actors on the global stage.\n",
      "\n",
      "You've covered some key aspects of geopolitics, including:\n",
      "\n",
      "1. Territorial disputes: Conflicts over borders, sovereignty, or control of specific territories.\n",
      "2. Natural resource politics: The impact of natural resources (e.g., oil, water, minerals) on international relations, economic development, and conflict.\n",
      "3. Economic interests: How nations' economic needs, trade policies, and investment strategies shape their relationships with other countries.\n",
      "4. Security concerns: The role of military power, defense alliances, and security institutions in shaping international relations.\n",
      "5. Cultural and social factors: How cultural, religious, or ideological differences between societies influence international interactions.\n",
      "6. Environmental politics: The impact of environmental issues (e.g., climate change, pollution) on global governance, cooperation, and conflict.\n",
      "\n",
      "You've also mentioned some applications of geopolitics, including:\n",
      "\n",
      "1. Regional studies: Analyzing the complex relationships within specific regions, such as Europe, Asia, or Latin America.\n",
      "2. International relations: Examining how countries interact with each other, including diplomacy, trade, and conflict resolution.\n",
      "3. Global governance: Understanding the role of international organizations, such as the United Nations, in addressing global challenges.\n",
      "4. National security: Assessing the strategic implications of geopolitics for a country's defense and foreign policy.\n",
      "\n",
      "By recognizing the interplay between geography, politics, and economics, geopolitics can help us better comprehend the complex dynamics shaping our world today. It's essential to consider these factors when thinking about international relations, global challenges, and the future of our planet!\u001b[0m\n",
      "\n",
      "\u001b[1m> Finished chain.\u001b[0m\n",
      "This is a great overview of geopolitics! It's a fascinating field that helps us understand how the interconnectedness of geographical, political, and economic factors shapes relationships between countries, regions, and other actors on the global stage.\n",
      "\n",
      "You've covered some key aspects of geopolitics, including:\n",
      "\n",
      "1. Territorial disputes: Conflicts over borders, sovereignty, or control of specific territories.\n",
      "2. Natural resource politics: The impact of natural resources (e.g., oil, water, minerals) on international relations, economic development, and conflict.\n",
      "3. Economic interests: How nations' economic needs, trade policies, and investment strategies shape their relationships with other countries.\n",
      "4. Security concerns: The role of military power, defense alliances, and security institutions in shaping international relations.\n",
      "5. Cultural and social factors: How cultural, religious, or ideological differences between societies influence international interactions.\n",
      "6. Environmental politics: The impact of environmental issues (e.g., climate change, pollution) on global governance, cooperation, and conflict.\n",
      "\n",
      "You've also mentioned some applications of geopolitics, including:\n",
      "\n",
      "1. Regional studies: Analyzing the complex relationships within specific regions, such as Europe, Asia, or Latin America.\n",
      "2. International relations: Examining how countries interact with each other, including diplomacy, trade, and conflict resolution.\n",
      "3. Global governance: Understanding the role of international organizations, such as the United Nations, in addressing global challenges.\n",
      "4. National security: Assessing the strategic implications of geopolitics for a country's defense and foreign policy.\n",
      "\n",
      "By recognizing the interplay between geography, politics, and economics, geopolitics can help us better comprehend the complex dynamics shaping our world today. It's essential to consider these factors when thinking about international relations, global challenges, and the future of our planet!\n"
     ]
    }
   ],
   "source": [
    "print(parrent_chain.run(input(\"Enter a topic: \")))"
   ]
  },
  {
   "cell_type": "markdown",
   "metadata": {},
   "source": [
    "###  Using **SEQUENTIAL CHAIN**"
   ]
  },
  {
   "cell_type": "code",
   "execution_count": 32,
   "metadata": {},
   "outputs": [],
   "source": [
    "parrent_chain1 = SequentialChain(chains=[chain1,chain2],\n",
    "                                 input_variables = [\"topic\",\"importance\"],\n",
    "                                 output_variables = [\"defination\",\"time\"],\n",
    "                                 verbose=True)\n"
   ]
  },
  {
   "cell_type": "code",
   "execution_count": 33,
   "metadata": {},
   "outputs": [
    {
     "name": "stdout",
     "output_type": "stream",
     "text": [
      "\n",
      "\n",
      "\u001b[1m> Entering new SequentialChain chain...\u001b[0m\n",
      "\n",
      "\n",
      "\u001b[1m> Entering new LLMChain chain...\u001b[0m\n",
      "Prompt after formatting:\n",
      "\u001b[32;1m\u001b[1;3mWhat is Generative A.I?\u001b[0m\n",
      "\n",
      "\u001b[1m> Finished chain.\u001b[0m\n",
      "\n",
      "\n",
      "\u001b[1m> Entering new LLMChain chain...\u001b[0m\n",
      "Prompt after formatting:\n",
      "\u001b[32;1m\u001b[1;3mWhat is its High ?\u001b[0m\n",
      "\n",
      "\u001b[1m> Finished chain.\u001b[0m\n",
      "\n",
      "\u001b[1m> Finished chain.\u001b[0m\n",
      "{'topic': 'Generative A.I', 'importance': 'High', 'defination': 'Generative Artificial Intelligence (AI) refers to a type of AI that focuses on generating new data, such as text, images, music, or videos, rather than just processing and analyzing existing data. This type of AI uses algorithms and models to create novel outputs that are often original, creative, and unexpected.\\n\\nSome examples of generative AI include:\\n\\n1. **Text generation**: AI systems that can generate human-like text, such as articles, stories, or even entire books.\\n2. **Image generation**: AI systems that can create new images, such as faces, objects, or landscapes, based on patterns learned from a dataset.\\n3. **Music generation**: AI systems that can compose music, including melodies, harmonies, and rhythms, often using algorithms inspired by human creativity.\\n4. **Video generation**: AI systems that can generate video content, such as short films, animations, or even entire movies.\\n\\nGenerative AI models typically use one or more of the following approaches:\\n\\n1. **Deep learning**: Neural networks trained on large datasets to learn patterns and relationships between data points.\\n2. **Reinforcement learning**: AI systems that learn through trial and error, using rewards or penalties to refine their generation processes.\\n3. **Evolutionary algorithms**: AI systems that use evolutionary principles, such as mutation, crossover, and selection, to evolve new generations of data.\\n\\nThe applications of generative AI are vast and diverse, including:\\n\\n1. **Content creation**: AI-generated content can be used in various industries, such as entertainment, marketing, or publishing.\\n2. **Data augmentation**: Generative AI can help expand training datasets by generating new, synthetic data that mimics the patterns and distributions found in the original data.\\n3. **Research and discovery**: Generative AI can aid scientific research by generating novel hypotheses, models, or even entire theories.\\n4. **Artistic collaborations**: Generative AI can collaborate with human artists to create innovative, hybrid works that blend human creativity with machine intelligence.\\n\\nAs generative AI continues to evolve, we can expect to see increasingly sophisticated and creative applications across various domains.', 'time': 'I apologize for the confusion earlier. Since we didn\\'t discuss a specific topic or concept, there isn\\'t an \"it\" that has a high value. If you\\'d like to ask about something specific or start a new conversation, I\\'m here to help!'}\n"
     ]
    }
   ],
   "source": [
    "print(parrent_chain1({\n",
    "    \"topic\": input(\"Enter a topic: \"),\n",
    "    \"importance\": \"High\"\n",
    "}))"
   ]
  },
  {
   "cell_type": "code",
   "execution_count": null,
   "metadata": {},
   "outputs": [],
   "source": []
  }
 ],
 "metadata": {
  "kernelspec": {
   "display_name": "venv",
   "language": "python",
   "name": "python3"
  },
  "language_info": {
   "codemirror_mode": {
    "name": "ipython",
    "version": 3
   },
   "file_extension": ".py",
   "mimetype": "text/x-python",
   "name": "python",
   "nbconvert_exporter": "python",
   "pygments_lexer": "ipython3",
   "version": "3.9.13"
  }
 },
 "nbformat": 4,
 "nbformat_minor": 2
}
