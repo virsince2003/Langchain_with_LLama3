{
 "cells": [
  {
   "cell_type": "code",
   "execution_count": 15,
   "metadata": {},
   "outputs": [],
   "source": [
    "from langchain_community.llms import Ollama\n"
   ]
  },
  {
   "cell_type": "code",
   "execution_count": 12,
   "metadata": {},
   "outputs": [
    {
     "data": {
      "text/plain": [
       "'e:\\\\VS_CODE\\\\Langchain_with_LLama3'"
      ]
     },
     "execution_count": 12,
     "metadata": {},
     "output_type": "execute_result"
    }
   ],
   "source": [
    "import os\n",
    "os.getcwd()"
   ]
  },
  {
   "cell_type": "code",
   "execution_count": 17,
   "metadata": {},
   "outputs": [
    {
     "data": {
      "text/plain": [
       "\"Hola amigo! How's it going?\""
      ]
     },
     "execution_count": 17,
     "metadata": {},
     "output_type": "execute_result"
    }
   ],
   "source": [
    "llm = Ollama(\n",
    "    model = \"llama3\"\n",
    ")\n",
    "llm.invoke(\"hello LLAMA\")"
   ]
  },
  {
   "cell_type": "code",
   "execution_count": 22,
   "metadata": {},
   "outputs": [],
   "source": [
    "# prompting\n",
    "from langchain_core.prompts import ChatPromptTemplate\n",
    "\n",
    "template = ChatPromptTemplate.from_messages(\n",
    "    [\n",
    "        (\n",
    "           \"ai\", \"You are worlds best modern data scientist. Your name is {name}.\"\n",
    "        ),\n",
    "        (\n",
    "            \"user\", \"{input}\"\n",
    "        )\n",
    "    ]\n",
    ")\n",
    "prompt_value = template.invoke(\n",
    "    {\n",
    "        \n",
    "    'name': \"Jarvis\",\n",
    "    'input': \"What is the best programming language? and who are you?\"\n",
    "\n",
    "    }\n",
    ")"
   ]
  },
  {
   "cell_type": "code",
   "execution_count": 23,
   "metadata": {},
   "outputs": [
    {
     "name": "stdout",
     "output_type": "stream",
     "text": [
      "messages=[AIMessage(content='You are worlds best modern data scientist. Your name is Jarvis.'), HumanMessage(content='What is the best programming language? and who are you?')]\n"
     ]
    }
   ],
   "source": [
    "print(prompt_value)"
   ]
  },
  {
   "cell_type": "code",
   "execution_count": 31,
   "metadata": {},
   "outputs": [],
   "source": [
    "## Message place holder\n",
    "\n",
    "template = ChatPromptTemplate.from_messages(\n",
    "    [\n",
    "        (\n",
    "           \"system\", \"You are worlds best modern data scientist. Your name is {name}.\"\n",
    "        ),\n",
    "        (\n",
    "            \"user\", \"{input}\"\n",
    "        ),\n",
    "        (\n",
    "            \"ai\", \"I am {name}, I am data scientist. I am here to help you.\"\n",
    "        ),\n",
    "        (\n",
    "            # conversation placeholder is key. \n",
    "            \"placeholder\", \"{conversation}\"\n",
    "        )\n",
    "    ]\n",
    ")\n",
    "\n",
    "prompt_value_with_placeholder = template.invoke(\n",
    "    {\n",
    "        'name': \"Jarvis\",\n",
    "        \n",
    "        'input': \"What is the best programming language? and who are you?\",\n",
    "\n",
    "        \"conversation\": [\n",
    "            (\"user\" , \"what value you can provide here?\"),\n",
    "            (\"ai\", \"I can work with data and provide insights from data, I am here to help you.\")\n",
    "        ]\n",
    "    }\n",
    ")\n"
   ]
  },
  {
   "cell_type": "code",
   "execution_count": 32,
   "metadata": {},
   "outputs": [
    {
     "name": "stdout",
     "output_type": "stream",
     "text": [
      "messages=[SystemMessage(content='You are worlds best modern data scientist. Your name is Jarvis.'), HumanMessage(content='What is the best programming language? and who are you?'), AIMessage(content='I am Jarvis, I am data scientist. I am here to help you.'), HumanMessage(content='what value you can provide here?'), AIMessage(content='I can work with data and provide insights from data, I am here to help you.')]\n"
     ]
    }
   ],
   "source": [
    "print(prompt_value_with_placeholder)"
   ]
  },
  {
   "cell_type": "code",
   "execution_count": null,
   "metadata": {},
   "outputs": [],
   "source": []
  }
 ],
 "metadata": {
  "kernelspec": {
   "display_name": "venv",
   "language": "python",
   "name": "python3"
  },
  "language_info": {
   "codemirror_mode": {
    "name": "ipython",
    "version": 3
   },
   "file_extension": ".py",
   "mimetype": "text/x-python",
   "name": "python",
   "nbconvert_exporter": "python",
   "pygments_lexer": "ipython3",
   "version": "3.9.13"
  }
 },
 "nbformat": 4,
 "nbformat_minor": 2
}
